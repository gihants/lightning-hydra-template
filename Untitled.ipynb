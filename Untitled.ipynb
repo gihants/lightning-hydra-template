{
 "cells": [
  {
   "cell_type": "code",
   "execution_count": 6,
   "id": "ca4b3458-9083-4635-a0e5-50e343fa5d8a",
   "metadata": {},
   "outputs": [],
   "source": [
    "import os\n",
    "from typing import Any, Dict, Optional, Tuple\n",
    "\n",
    "import torch\n",
    "from lightning import LightningDataModule\n",
    "from torch.utils.data import ConcatDataset, DataLoader, Dataset, random_split\n",
    "from torchvision.datasets import MNIST, ImageFolder\n",
    "from torchvision.transforms import transforms\n",
    "\n",
    "from src.data.components.bscan_classification_data_augmentation import (\n",
    "    BScanClassificationImageTransform,\n",
    ")"
   ]
  },
  {
   "cell_type": "code",
   "execution_count": 10,
   "id": "ca86852b-3adf-4b38-97fa-672b087120a1",
   "metadata": {},
   "outputs": [],
   "source": [
    "data_dir = \"./data/bscan_classification_data\""
   ]
  },
  {
   "cell_type": "code",
   "execution_count": 11,
   "id": "8965170a-8e61-4be2-9f89-95a52b170a9a",
   "metadata": {},
   "outputs": [],
   "source": [
    "train_dataset = ImageFolder(\n",
    "    root=os.path.join(data_dir, \"train\"),\n",
    "    transform=BScanClassificationImageTransform(\n",
    "        is_train=True, img_size=112\n",
    "    ),\n",
    ")"
   ]
  },
  {
   "cell_type": "code",
   "execution_count": 14,
   "id": "d89348b1-14e8-4958-8338-a446b2f8c8e4",
   "metadata": {},
   "outputs": [
    {
     "data": {
      "text/plain": [
       "['ga', 'no_ga']"
      ]
     },
     "execution_count": 14,
     "metadata": {},
     "output_type": "execute_result"
    }
   ],
   "source": [
    "train_dataset."
   ]
  },
  {
   "cell_type": "code",
   "execution_count": null,
   "id": "b9dc51cc-3c45-4bc1-aeaf-aabd85a83b0b",
   "metadata": {},
   "outputs": [],
   "source": []
  }
 ],
 "metadata": {
  "kernelspec": {
   "display_name": "Python 3 (ipykernel)",
   "language": "python",
   "name": "python3"
  },
  "language_info": {
   "codemirror_mode": {
    "name": "ipython",
    "version": 3
   },
   "file_extension": ".py",
   "mimetype": "text/x-python",
   "name": "python",
   "nbconvert_exporter": "python",
   "pygments_lexer": "ipython3",
   "version": "3.9.0"
  }
 },
 "nbformat": 4,
 "nbformat_minor": 5
}
